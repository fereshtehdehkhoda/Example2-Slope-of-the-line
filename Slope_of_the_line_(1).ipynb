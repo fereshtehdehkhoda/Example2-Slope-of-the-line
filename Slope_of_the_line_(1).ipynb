{
  "cells": [
    {
      "cell_type": "markdown",
      "metadata": {
        "id": "view-in-github",
        "colab_type": "text"
      },
      "source": [
        "<a href=\"https://colab.research.google.com/github/fereshtehdehkhoda/Example2-Slope-of-the-line/blob/main/Slope_of_the_line_(1).ipynb\" target=\"_parent\"><img src=\"https://colab.research.google.com/assets/colab-badge.svg\" alt=\"Open In Colab\"/></a>"
      ]
    },
    {
      "cell_type": "markdown",
      "id": "7c245c6d-7df6-423d-be53-da4cfada72df",
      "metadata": {
        "id": "7c245c6d-7df6-423d-be53-da4cfada72df"
      },
      "source": [
        "## Slope of the line"
      ]
    },
    {
      "cell_type": "code",
      "execution_count": null,
      "id": "11f0b700-1823-4445-80f4-66cab7abf476",
      "metadata": {
        "id": "11f0b700-1823-4445-80f4-66cab7abf476"
      },
      "outputs": [],
      "source": [
        "#مختصات دو نقطه را از کاربر بگیرد و شیب خط متصل کننده دو نقطه را محاسبه کند"
      ]
    },
    {
      "cell_type": "code",
      "execution_count": null,
      "id": "d7f94526-aa89-44a9-9300-c67f6c717120",
      "metadata": {
        "id": "d7f94526-aa89-44a9-9300-c67f6c717120"
      },
      "outputs": [],
      "source": [
        "#Step1\n",
        "x1 = int(input(\"x1: \"))\n",
        "y1 = int(input(\"y1: \"))\n",
        "\n",
        "x2 = int(input(\"x2: \"))\n",
        "y2 = int(input(\"y2: \"))\n",
        "\n",
        "#Step2\n",
        "slop_of_the_line = (y1-y2)/(x1-x2)\n",
        "\n",
        "#step3\n",
        "print('slope of the line is {slop:0.2f}'.format(slop=slop_of_the_line))"
      ]
    }
  ],
  "metadata": {
    "kernelspec": {
      "display_name": "Python 3 (ipykernel)",
      "language": "python",
      "name": "python3"
    },
    "language_info": {
      "codemirror_mode": {
        "name": "ipython",
        "version": 3
      },
      "file_extension": ".py",
      "mimetype": "text/x-python",
      "name": "python",
      "nbconvert_exporter": "python",
      "pygments_lexer": "ipython3",
      "version": "3.12.4"
    },
    "colab": {
      "provenance": [],
      "include_colab_link": true
    }
  },
  "nbformat": 4,
  "nbformat_minor": 5
}